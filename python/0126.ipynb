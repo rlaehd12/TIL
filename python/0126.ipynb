{
 "cells": [
  {
   "attachments": {},
   "cell_type": "markdown",
   "metadata": {},
   "source": [
    "# 순서 없는 자료구조 + 복사"
   ]
  },
  {
   "attachments": {},
   "cell_type": "markdown",
   "metadata": {},
   "source": [
    "## 셋 메서드"
   ]
  },
  {
   "cell_type": "code",
   "execution_count": 1,
   "metadata": {},
   "outputs": [
    {
     "name": "stdout",
     "output_type": "stream",
     "text": [
      "{'사과', '바나나', '수박', '딸기'}\n"
     ]
    }
   ],
   "source": [
    "a = {'사과', '바나나', '딸기'}\n",
    "a.add('수박') # 값 추가\n",
    "print(a)"
   ]
  },
  {
   "cell_type": "code",
   "execution_count": 2,
   "metadata": {},
   "outputs": [
    {
     "name": "stdout",
     "output_type": "stream",
     "text": [
      "{'사과', '과일', '오이', '바나나', '딸기'}\n"
     ]
    }
   ],
   "source": [
    "a = {'사과', '바나나', '딸기'}\n",
    "a.update(['바나나', '과일', '오이']) # 여러 값 추가\n",
    "print(a)"
   ]
  },
  {
   "cell_type": "code",
   "execution_count": 5,
   "metadata": {},
   "outputs": [
    {
     "name": "stdout",
     "output_type": "stream",
     "text": [
      "{'바나나', '딸기'}\n",
      "{'바나나', '딸기'}\n"
     ]
    }
   ],
   "source": [
    "a = {'사과', '바나나', '딸기'}\n",
    "a.remove('사과') # 요소 제거, 없으면 오류\n",
    "print(a)\n",
    "a.discard('사과')# 요소 제거, 없어도 오류 안뜸\n",
    "print(a)"
   ]
  },
  {
   "cell_type": "code",
   "execution_count": 14,
   "metadata": {},
   "outputs": [
    {
     "name": "stdout",
     "output_type": "stream",
     "text": [
      "사과\n",
      "{'바나나', '딸기'}\n"
     ]
    }
   ],
   "source": [
    "a = {'사과', '바나나', '딸기'}\n",
    "print(a.pop()) #임의의 값 삭제 후 삭제한 값 반환\n",
    "print(a)"
   ]
  },
  {
   "attachments": {},
   "cell_type": "markdown",
   "metadata": {},
   "source": [
    "## 딕셔너리 메서드"
   ]
  },
  {
   "cell_type": "code",
   "execution_count": null,
   "metadata": {},
   "outputs": [],
   "source": []
  },
  {
   "attachments": {},
   "cell_type": "markdown",
   "metadata": {},
   "source": [
    "## 얕은복사 깊은복사\n",
    "* 할당\n",
    "* 얕은\n",
    "* 깊은"
   ]
  },
  {
   "cell_type": "code",
   "execution_count": 16,
   "metadata": {},
   "outputs": [
    {
     "name": "stdout",
     "output_type": "stream",
     "text": [
      "[5, 2, 3, 4, 5]\n"
     ]
    }
   ],
   "source": [
    "#할당(주소 같음)\n",
    "a_list = [1,2,3,4,5]\n",
    "b_list = a_list\n",
    "\n",
    "a_list[0] = 5\n",
    "print(b_list) # a리스트 값을 바꿨는데 b리스트 값도 바뀜"
   ]
  },
  {
   "cell_type": "code",
   "execution_count": 19,
   "metadata": {},
   "outputs": [
    {
     "name": "stdout",
     "output_type": "stream",
     "text": [
      "[1, 2, 3] [1, 2, 3]\n",
      "[1, 2, 3] [5, 2, 3]\n"
     ]
    }
   ],
   "source": [
    "# 얕은 복사 슬라이스(다른주소)(아래 경우때문에 깊은 복사 애매)\n",
    "a=[1,2,3]\n",
    "b=a[:]\n",
    "print(a,b)\n",
    "b[0] = 5\n",
    "print(a,b) # 주소가 달라서 b만 바뀜"
   ]
  },
  {
   "cell_type": "code",
   "execution_count": 21,
   "metadata": {},
   "outputs": [
    {
     "name": "stdout",
     "output_type": "stream",
     "text": [
      "[1, 2, ['a', 'b']] [1, 2, ['a', 'b']]\n",
      "[1, 2, [123, 'b']] [1, 2, [123, 'b']]\n"
     ]
    }
   ],
   "source": [
    "#슬라이스 주의사항\n",
    "a=[1, 2, ['a', 'b']]\n",
    "b = a[:]\n",
    "print(a,b)\n",
    "b[2][0] = 123\n",
    "print(a,b) # 복사하는 리스트의 원소가 주소 참조해서 a,b둘다 바뀜"
   ]
  },
  {
   "cell_type": "code",
   "execution_count": 23,
   "metadata": {},
   "outputs": [
    {
     "name": "stdout",
     "output_type": "stream",
     "text": [
      "[1, 2, ['a', 'b']] [1, 2, ['a', 'b']]\n",
      "[1, 2, ['a', 'b']] [1, 2, [123, 'b']]\n"
     ]
    }
   ],
   "source": [
    "#깊은 복사\n",
    "import copy\n",
    "a = [1, 2, ['a', 'b']]\n",
    "b = copy.deepcopy(a)\n",
    "print(a,b)\n",
    "b[2][0] = 123\n",
    "print(a,b) # 복사 잘함, 3차원 그 이상으로 들어가도 알아서 함"
   ]
  },
  {
   "cell_type": "code",
   "execution_count": 27,
   "metadata": {},
   "outputs": [
    {
     "name": "stdout",
     "output_type": "stream",
     "text": [
      "True\n",
      "True\n"
     ]
    }
   ],
   "source": [
    "# 근데 사실 파이썬은 메모리 좀 다르게 운용\n",
    "# 다른 변수에 같은 값 할당하면 어느정도는 같은 주소 가지게 만듬 - 메모리 아끼기\n",
    "a=256\n",
    "b=256\n",
    "\n",
    "c = 'hello'\n",
    "d = 'hello'\n",
    "\n",
    "# is는 메모리 주소까지 참조하여 비교함 ==은 값만 비교\n",
    "print(c is d)\n",
    "print(a is b)\n"
   ]
  },
  {
   "cell_type": "code",
   "execution_count": 33,
   "metadata": {},
   "outputs": [
    {
     "ename": "SyntaxError",
     "evalue": "positional argument follows keyword argument (541058557.py, line 4)",
     "output_type": "error",
     "traceback": [
      "\u001b[1;36m  Cell \u001b[1;32mIn[33], line 4\u001b[1;36m\u001b[0m\n\u001b[1;33m    func1(param1 = 4, 4)\u001b[0m\n\u001b[1;37m                       ^\u001b[0m\n\u001b[1;31mSyntaxError\u001b[0m\u001b[1;31m:\u001b[0m positional argument follows keyword argument\n"
     ]
    }
   ],
   "source": [
    "# 기타 / 키워드 안받고 포지션만 받기\n",
    "def func1(param1, param2, /): # / 앞에는 키워드 안받음\n",
    "    print('a')\n",
    "\n",
    "func1(param1 = 4, 4)"
   ]
  }
 ],
 "metadata": {
  "kernelspec": {
   "display_name": "Python 3",
   "language": "python",
   "name": "python3"
  },
  "language_info": {
   "codemirror_mode": {
    "name": "ipython",
    "version": 3
   },
   "file_extension": ".py",
   "mimetype": "text/x-python",
   "name": "python",
   "nbconvert_exporter": "python",
   "pygments_lexer": "ipython3",
   "version": "3.9.13"
  },
  "orig_nbformat": 4,
  "vscode": {
   "interpreter": {
    "hash": "c4b9ebf4ca459396e2ad1150752490c26670c1a037c08cad955a4425787bec2e"
   }
  }
 },
 "nbformat": 4,
 "nbformat_minor": 2
}
