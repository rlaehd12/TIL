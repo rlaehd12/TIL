{
 "cells": [
  {
   "attachments": {},
   "cell_type": "markdown",
   "metadata": {},
   "source": [
    "# 순서 없는 자료구조 + 복사"
   ]
  },
  {
   "attachments": {},
   "cell_type": "markdown",
   "metadata": {},
   "source": [
    "## 셋 메서드"
   ]
  },
  {
   "cell_type": "code",
   "execution_count": 6,
   "metadata": {},
   "outputs": [
    {
     "name": "stdout",
     "output_type": "stream",
     "text": [
      "{'사과', '바나나', '수박', '딸기'}\n"
     ]
    }
   ],
   "source": [
    "a = {'사과', '바나나', '딸기'}\n",
    "a.add('수박') # 값 추가\n",
    "print(a)"
   ]
  },
  {
   "cell_type": "code",
   "execution_count": 7,
   "metadata": {},
   "outputs": [
    {
     "name": "stdout",
     "output_type": "stream",
     "text": [
      "{'오이', '사과', '바나나', '과일', '딸기'}\n"
     ]
    }
   ],
   "source": [
    "a = {'사과', '바나나', '딸기'}\n",
    "a.update(['바나나', '과일', '오이']) # 여러 값 추가\n",
    "print(a)"
   ]
  },
  {
   "cell_type": "code",
   "execution_count": 8,
   "metadata": {},
   "outputs": [
    {
     "name": "stdout",
     "output_type": "stream",
     "text": [
      "{'바나나', '딸기'}\n",
      "{'바나나', '딸기'}\n"
     ]
    }
   ],
   "source": [
    "a = {'사과', '바나나', '딸기'}\n",
    "a.remove('사과') # 요소 제거, 없으면 오류\n",
    "print(a)\n",
    "a.discard('사과')# 요소 제거, 없어도 오류 안뜸\n",
    "print(a)"
   ]
  },
  {
   "cell_type": "code",
   "execution_count": 9,
   "metadata": {},
   "outputs": [
    {
     "name": "stdout",
     "output_type": "stream",
     "text": [
      "사과\n",
      "{'바나나', '딸기'}\n"
     ]
    }
   ],
   "source": [
    "a = {'사과', '바나나', '딸기'}\n",
    "print(a.pop()) #임의의 값 삭제 후 삭제한 값 반환\n",
    "print(a)"
   ]
  },
  {
   "attachments": {},
   "cell_type": "markdown",
   "metadata": {},
   "source": [
    "## 딕셔너리 메서드"
   ]
  },
  {
   "cell_type": "code",
   "execution_count": 10,
   "metadata": {},
   "outputs": [
    {
     "name": "stdout",
     "output_type": "stream",
     "text": [
      "['apple', 'banana']\n",
      "['사과', '바나나']\n"
     ]
    }
   ],
   "source": [
    "#keys(), values()\n",
    "my_dict = {'apple': '사과', 'banana': '바나나'}\n",
    "print(list(my_dict.keys()))\n",
    "print(list(my_dict.values()))"
   ]
  },
  {
   "cell_type": "code",
   "execution_count": 11,
   "metadata": {},
   "outputs": [
    {
     "name": "stdout",
     "output_type": "stream",
     "text": [
      "사과\n",
      "None\n",
      "0\n"
     ]
    }
   ],
   "source": [
    "# .get(key[,default])\n",
    "my_dict = {'apple': '사과', 'banana': '바나나'}\n",
    "# my_dict['asdf'] 이거 오류뜸\n",
    "print(my_dict.get('apple'))\n",
    "print(my_dict.get('asdf')) ## 오류 안뜸\n",
    "print(my_dict.get('asdf',0)) ## 디폴트값"
   ]
  },
  {
   "cell_type": "code",
   "execution_count": 12,
   "metadata": {},
   "outputs": [
    {
     "name": "stdout",
     "output_type": "stream",
     "text": [
      "사과\n"
     ]
    }
   ],
   "source": [
    "#.pop(key[,default])\n",
    "#key가 딕셔너리에 있으면 제거하고 제거한 값 반환\n",
    "my_dict = {'apple': '사과', 'banana': '바나나'}\n",
    "print(my_dict.pop('apple')) #key에 해당하는 value 반환\n",
    "# 키 없으면 디폴트 값 반환\n",
    "# 디폴트값도 없으면 오류뜸"
   ]
  },
  {
   "cell_type": "code",
   "execution_count": 13,
   "metadata": {},
   "outputs": [
    {
     "name": "stdout",
     "output_type": "stream",
     "text": [
      "{'apple': '포도', 'banana': '바나나'}\n"
     ]
    }
   ],
   "source": [
    "#.update() 덮어쓰기\n",
    "my_dict = {'apple': '사과', 'banana': '바나나'}\n",
    "my_dict.update(apple = '포도')\n",
    "print(my_dict)"
   ]
  },
  {
   "attachments": {},
   "cell_type": "markdown",
   "metadata": {},
   "source": [
    "## 얕은복사 깊은복사\n",
    "* 할당\n",
    "* 얕은\n",
    "* 깊은"
   ]
  },
  {
   "cell_type": "code",
   "execution_count": 14,
   "metadata": {},
   "outputs": [
    {
     "name": "stdout",
     "output_type": "stream",
     "text": [
      "[5, 2, 3, 4, 5]\n"
     ]
    }
   ],
   "source": [
    "#할당(주소 같음)\n",
    "a_list = [1,2,3,4,5]\n",
    "b_list = a_list\n",
    "\n",
    "a_list[0] = 5\n",
    "print(b_list) # a리스트 값을 바꿨는데 b리스트 값도 바뀜"
   ]
  },
  {
   "cell_type": "code",
   "execution_count": 15,
   "metadata": {},
   "outputs": [
    {
     "name": "stdout",
     "output_type": "stream",
     "text": [
      "[1, 2, 3] [1, 2, 3]\n",
      "[1, 2, 3] [5, 2, 3]\n"
     ]
    }
   ],
   "source": [
    "# 얕은 복사 슬라이스(다른주소)(아래 경우때문에 깊은 복사 애매)\n",
    "a=[1,2,3]\n",
    "b=a[:]\n",
    "print(a,b)\n",
    "b[0] = 5\n",
    "print(a,b) # 주소가 달라서 b만 바뀜"
   ]
  },
  {
   "cell_type": "code",
   "execution_count": 16,
   "metadata": {},
   "outputs": [
    {
     "name": "stdout",
     "output_type": "stream",
     "text": [
      "[1, 2, ['a', 'b']] [1, 2, ['a', 'b']]\n",
      "[1, 2, [123, 'b']] [1, 2, [123, 'b']]\n"
     ]
    }
   ],
   "source": [
    "#슬라이스 주의사항\n",
    "a=[1, 2, ['a', 'b']]\n",
    "b = a[:]\n",
    "print(a,b)\n",
    "b[2][0] = 123\n",
    "print(a,b) # 복사하는 리스트의 원소가 주소 참조해서 a,b둘다 바뀜"
   ]
  },
  {
   "cell_type": "code",
   "execution_count": 17,
   "metadata": {},
   "outputs": [
    {
     "name": "stdout",
     "output_type": "stream",
     "text": [
      "[1, 2, ['a', 'b']] [1, 2, ['a', 'b']]\n",
      "[1, 2, ['a', 'b']] [1, 2, [123, 'b']]\n"
     ]
    }
   ],
   "source": [
    "#깊은 복사\n",
    "import copy\n",
    "a = [1, 2, ['a', 'b']]\n",
    "b = copy.deepcopy(a)\n",
    "print(a,b)\n",
    "b[2][0] = 123\n",
    "print(a,b) # 복사 잘함, 3차원 그 이상으로 들어가도 알아서 함"
   ]
  },
  {
   "cell_type": "code",
   "execution_count": 18,
   "metadata": {},
   "outputs": [
    {
     "name": "stdout",
     "output_type": "stream",
     "text": [
      "True\n",
      "True\n"
     ]
    }
   ],
   "source": [
    "# 근데 사실 파이썬은 메모리 좀 다르게 운용\n",
    "# 다른 변수에 같은 값 할당하면 어느정도는 같은 주소 가지게 만듬 - 메모리 아끼기\n",
    "a=256\n",
    "b=256\n",
    "\n",
    "c = 'hello'\n",
    "d = 'hello'\n",
    "\n",
    "# is는 메모리 주소까지 참조하여 비교함 ==은 값만 비교\n",
    "print(c is d)\n",
    "print(a is b)\n"
   ]
  },
  {
   "cell_type": "code",
   "execution_count": 19,
   "metadata": {},
   "outputs": [
    {
     "name": "stdout",
     "output_type": "stream",
     "text": [
      "[[0, 0, 0, 0], [0, 0, 0, 0], [0, 0, 0, 0], [0, 0, 0, 0]]\n",
      "[[0, 5, 0, 0], [0, 5, 0, 0], [0, 5, 0, 0], [0, 5, 0, 0]]\n"
     ]
    }
   ],
   "source": [
    "# 얕은복사 2 배열 만들기\n",
    "array = [[0]*4 ]*4\n",
    "print(array)\n",
    "array[0][1] = 5\n",
    "print(array)\n",
    "# 주소가 같아서 다바뀜\n"
   ]
  },
  {
   "cell_type": "code",
   "execution_count": 1,
   "metadata": {},
   "outputs": [
    {
     "ename": "TypeError",
     "evalue": "func1() got some positional-only arguments passed as keyword arguments: 'param2'",
     "output_type": "error",
     "traceback": [
      "\u001b[1;31m---------------------------------------------------------------------------\u001b[0m",
      "\u001b[1;31mTypeError\u001b[0m                                 Traceback (most recent call last)",
      "Cell \u001b[1;32mIn[1], line 5\u001b[0m\n\u001b[0;32m      2\u001b[0m \u001b[39mdef\u001b[39;00m \u001b[39mfunc1\u001b[39m(param1, param2, \u001b[39m/\u001b[39m): \u001b[39m# / 앞에는 키워드 안받음\u001b[39;00m\n\u001b[0;32m      3\u001b[0m     \u001b[39mprint\u001b[39m(\u001b[39m'\u001b[39m\u001b[39ma\u001b[39m\u001b[39m'\u001b[39m)\n\u001b[1;32m----> 5\u001b[0m func1(\u001b[39m4\u001b[39;49m, param2 \u001b[39m=\u001b[39;49m \u001b[39m4\u001b[39;49m)\n",
      "\u001b[1;31mTypeError\u001b[0m: func1() got some positional-only arguments passed as keyword arguments: 'param2'"
     ]
    }
   ],
   "source": [
    "# 기타 / 키워드 안받고 포지션만 받기\n",
    "def func1(param1, param2, /): # / 앞에는 키워드 안받음\n",
    "    print('a')\n",
    "\n",
    "func1(4, param2 = 4)"
   ]
  }
 ],
 "metadata": {
  "kernelspec": {
   "display_name": "Python 3",
   "language": "python",
   "name": "python3"
  },
  "language_info": {
   "codemirror_mode": {
    "name": "ipython",
    "version": 3
   },
   "file_extension": ".py",
   "mimetype": "text/x-python",
   "name": "python",
   "nbconvert_exporter": "python",
   "pygments_lexer": "ipython3",
   "version": "3.9.13"
  },
  "orig_nbformat": 4,
  "vscode": {
   "interpreter": {
    "hash": "efd48f70dd8b89c81e5457b0a0e9d57bf9658b7dac3ffe8848f1aec0db1dfe53"
   }
  }
 },
 "nbformat": 4,
 "nbformat_minor": 2
}
