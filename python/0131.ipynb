{
 "cells": [
  {
   "attachments": {},
   "cell_type": "markdown",
   "metadata": {},
   "source": [
    "### getter, setter 메서드"
   ]
  },
  {
   "cell_type": "code",
   "execution_count": 1,
   "metadata": {},
   "outputs": [
    {
     "name": "stdout",
     "output_type": "stream",
     "text": [
      "setter 호출\n",
      "getter 호출\n",
      "22\n"
     ]
    }
   ],
   "source": [
    "class Person:\n",
    "    def __init__(self):\n",
    "        self._age = 0\n",
    "    \n",
    "    def get_age(self):\n",
    "        print('getter 호출')\n",
    "        return self._age\n",
    "\n",
    "    def set_age(self, age):\n",
    "        # 안쪽에 로직을 짜서 이상한짓 방지할 수 있음\n",
    "        # 그냥 퍼블릭으로 두면 방지 못함\n",
    "        print('setter 호출')\n",
    "        self._age = age\n",
    "\n",
    "    age = property(get_age, set_age) # 3번 age는 클래스 변수, 퍼블릭\n",
    "\n",
    "p1 = Person()\n",
    "# 1번 방법\n",
    "#p1._age = 25 # 되긴 되는데 이렇게 접근하지 말자\n",
    "#print(p1._age) # 되긴 되는데 이렇게 접근하지 말자\n",
    "\n",
    "# 2번 방법\n",
    "# 불편함\n",
    "# p1.set_age(25)\n",
    "# print(p1.get_age())\n",
    "\n",
    "# 3번 방법\n",
    "p1.age = 22\n",
    "print(p1.age)"
   ]
  },
  {
   "cell_type": "code",
   "execution_count": 2,
   "metadata": {},
   "outputs": [
    {
     "name": "stdout",
     "output_type": "stream",
     "text": [
      "setter 호출\n",
      "getter 호출\n",
      "24\n"
     ]
    }
   ],
   "source": [
    "# getter, setter 사용\n",
    "class Person:\n",
    "    def __init__(self):\n",
    "        self._age = 0\n",
    "    \n",
    "    @property\n",
    "    def age(self):\n",
    "        print('getter 호출')\n",
    "        return self._age\n",
    "\n",
    "    @age.setter\n",
    "    def age(self, age):\n",
    "        print('setter 호출')\n",
    "        self._age = age\n",
    "\n",
    "\n",
    "p1 = Person()\n",
    "p1.age = 24\n",
    "print(p1.age)"
   ]
  }
 ],
 "metadata": {
  "kernelspec": {
   "display_name": "Python 3",
   "language": "python",
   "name": "python3"
  },
  "language_info": {
   "codemirror_mode": {
    "name": "ipython",
    "version": 3
   },
   "file_extension": ".py",
   "mimetype": "text/x-python",
   "name": "python",
   "nbconvert_exporter": "python",
   "pygments_lexer": "ipython3",
   "version": "3.9.13"
  },
  "orig_nbformat": 4,
  "vscode": {
   "interpreter": {
    "hash": "c4b9ebf4ca459396e2ad1150752490c26670c1a037c08cad955a4425787bec2e"
   }
  }
 },
 "nbformat": 4,
 "nbformat_minor": 2
}
