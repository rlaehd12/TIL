{
 "cells": [
  {
   "attachments": {},
   "cell_type": "markdown",
   "metadata": {},
   "source": [
    "# 함수"
   ]
  },
  {
   "attachments": {},
   "cell_type": "markdown",
   "metadata": {},
   "source": [
    "## 내장함수 `map`\n",
    "  * 기존 리스트를 건드리지 않고 새로운 객체를 돌려줌"
   ]
  },
  {
   "cell_type": "code",
   "execution_count": null,
   "metadata": {},
   "outputs": [],
   "source": [
    "numbers = [1, 2, 3]\n",
    "result = map(str, numbers)\n",
    "print(result, type(result)) # map object로 반환\n",
    "\n",
    "print(list(result)) # 리스트로 형변환 후 결과 확인"
   ]
  },
  {
   "attachments": {},
   "cell_type": "markdown",
   "metadata": {},
   "source": [
    "### map 활용\n",
    "* 문제 풀이시 input 값들 숫자를 바로 활용하고 싶을 때"
   ]
  },
  {
   "cell_type": "code",
   "execution_count": null,
   "metadata": {},
   "outputs": [],
   "source": [
    "# input은 문자열, split - 공백을 기준으로 나눠진 리스트\n",
    "# 만약 '3 5'를 입력하면 input().split() == [3,5] 순회가능\n",
    "n, m = map(int, input().split()) \n",
    "print(n, m)\n",
    "print(type(n), type(m)) # n, m int형"
   ]
  },
  {
   "attachments": {},
   "cell_type": "markdown",
   "metadata": {},
   "source": [
    "* 응용"
   ]
  },
  {
   "cell_type": "code",
   "execution_count": null,
   "metadata": {},
   "outputs": [],
   "source": [
    "def my_func(n, m):\n",
    "    return n * 11\n",
    "map_obj = map(my_func, [1,2,3], [4,2,3])\n",
    "result = list(map_obj) # map(함수, 순회가능)을 리스트로 형변환\n",
    "print(result)\n"
   ]
  },
  {
   "attachments": {},
   "cell_type": "markdown",
   "metadata": {},
   "source": [
    "## 내장함수 `filter`"
   ]
  },
  {
   "cell_type": "code",
   "execution_count": null,
   "metadata": {},
   "outputs": [],
   "source": [
    "def odd(n):\n",
    "    return n % 2\n",
    "numbers = [1, 2, 3, 4, 5]\n",
    "result = filter(odd, numbers)\n",
    "\n",
    "print(result, type(result)) # filter object로 반환\n",
    "print(list(result))         # 리스트로 형변환"
   ]
  },
  {
   "attachments": {},
   "cell_type": "markdown",
   "metadata": {},
   "source": [
    "## 내장함수 `zip`"
   ]
  },
  {
   "cell_type": "code",
   "execution_count": null,
   "metadata": {},
   "outputs": [],
   "source": [
    "name_list = ['a', 'b', 'c', 'd', 'e', 'f']\n",
    "age = [17,12,23, 42, 43, 25]\n",
    "weight = [42,65,756,24,56,74]\n",
    "\n",
    "for each in zip(name_list, age, weight): # 튜플로 복수의 iterable을 묶어줌\n",
    "    print(each)"
   ]
  },
  {
   "attachments": {},
   "cell_type": "markdown",
   "metadata": {},
   "source": [
    "## 내장함수 `lambda`"
   ]
  },
  {
   "cell_type": "code",
   "execution_count": null,
   "metadata": {},
   "outputs": [],
   "source": [
    "#기본적인 모습\n",
    "def my_func(n):\n",
    "    return n * 11\n",
    "map_obj = map(my_func, [1,2,3])\n",
    "result = list(map_obj)\n",
    "print(result)\n",
    "\n",
    "#lambda로 바꾸기\n",
    "my_lambda_func = lambda i: i*11\n",
    "result =  list(map(my_lambda_func, [1,2,3]))\n",
    "print(result)\n"
   ]
  },
  {
   "cell_type": "code",
   "execution_count": null,
   "metadata": {},
   "outputs": [],
   "source": [
    "#lambda 활용\n",
    "print((lambda x: x*x)(4))\n",
    "\n",
    "my_func = lambda n: n * 2\n",
    "print(my_func(5))"
   ]
  },
  {
   "attachments": {},
   "cell_type": "markdown",
   "metadata": {},
   "source": [
    "## **재귀함수**"
   ]
  },
  {
   "cell_type": "code",
   "execution_count": null,
   "metadata": {},
   "outputs": [],
   "source": [
    "def factorial(n):\n",
    "    if n == 1: # 반드시 종료 지점을 설정하자\n",
    "        return 1\n",
    "    else:\n",
    "        return n * factorial(n-1)\n",
    "\n",
    "factorial(5)\n"
   ]
  },
  {
   "attachments": {},
   "cell_type": "markdown",
   "metadata": {},
   "source": [
    "# 패킹/언패킹"
   ]
  },
  {
   "cell_type": "code",
   "execution_count": null,
   "metadata": {},
   "outputs": [],
   "source": [
    "##패킹##################\n",
    "# x, y = 1, 2\n",
    "z = 1, 2, 3\n",
    "print(z)\n",
    "\n",
    "# 패킹 / 1은 a에 넣고, 남은거는 b에 넣어라\n",
    "a, *b = 1, 2, 3, 4\n",
    "print(a,b)"
   ]
  },
  {
   "cell_type": "code",
   "execution_count": null,
   "metadata": {},
   "outputs": [],
   "source": [
    "############언패킹###########\n",
    "def my_sum(a,b,c):\n",
    "    return a + b + c\n",
    "\n",
    "num_list = [4,6,8]\n",
    "# result = my_sum(num_list[0], num_list[1], num_list[2])\n",
    "result = my_sum(*num_list) # 언패킹\n",
    "print(result)"
   ]
  },
  {
   "attachments": {},
   "cell_type": "markdown",
   "metadata": {},
   "source": [
    "## 패킹 언패킹 함수에 적용"
   ]
  },
  {
   "cell_type": "code",
   "execution_count": null,
   "metadata": {},
   "outputs": [],
   "source": [
    "def test(*values):\n",
    "    for value in values:\n",
    "        print(value, end='')\n",
    "    print()\n",
    "\n",
    "test(1)\n",
    "test(1,2)\n",
    "test(1,2,3,4)"
   ]
  },
  {
   "attachments": {},
   "cell_type": "markdown",
   "metadata": {},
   "source": [
    "## 가변인자 적용"
   ]
  },
  {
   "cell_type": "code",
   "execution_count": null,
   "metadata": {},
   "outputs": [],
   "source": [
    "def my_sum(*args):\n",
    "    result = 0\n",
    "    for value in args:\n",
    "        result += value\n",
    "    return result\n",
    "\n",
    "print(my_sum())\n",
    "print(my_sum(1,2,3))"
   ]
  },
  {
   "attachments": {},
   "cell_type": "markdown",
   "metadata": {},
   "source": [
    "### 키워드 가변인자\n",
    "* 포지션은 *argument에, 키워드는 **kwargs에"
   ]
  },
  {
   "cell_type": "code",
   "execution_count": null,
   "metadata": {},
   "outputs": [],
   "source": [
    "def test(**kwargs):\n",
    "    print(kwargs, type(kwargs))\n",
    "    return kwargs\n",
    "\n",
    "test(name='asdf', age= 21)\n",
    "\n",
    "# 혼용\n",
    "def test2(*args,**kwargs):\n",
    "    print(kwargs, type(kwargs))\n",
    "    return kwargs\n",
    "\n",
    "test2(1,2,3,4,name='asdf', age= 21, music = 'fasd')\n",
    "\n"
   ]
  }
 ],
 "metadata": {
  "kernelspec": {
   "display_name": "Python 3",
   "language": "python",
   "name": "python3"
  },
  "language_info": {
   "codemirror_mode": {
    "name": "ipython",
    "version": 3
   },
   "file_extension": ".py",
   "mimetype": "text/x-python",
   "name": "python",
   "nbconvert_exporter": "python",
   "pygments_lexer": "ipython3",
   "version": "3.9.13"
  },
  "orig_nbformat": 4,
  "vscode": {
   "interpreter": {
    "hash": "c4b9ebf4ca459396e2ad1150752490c26670c1a037c08cad955a4425787bec2e"
   }
  }
 },
 "nbformat": 4,
 "nbformat_minor": 2
}
