{
 "cells": [
  {
   "attachments": {},
   "cell_type": "markdown",
   "metadata": {},
   "source": [
    "# 함수"
   ]
  },
  {
   "attachments": {},
   "cell_type": "markdown",
   "metadata": {},
   "source": [
    "## 내장함수 `map`\n",
    "  * 기존 리스트를 건드리지 않고 새로운 객체를 돌려줌"
   ]
  },
  {
   "cell_type": "code",
   "execution_count": 1,
   "metadata": {},
   "outputs": [
    {
     "name": "stdout",
     "output_type": "stream",
     "text": [
      "<map object at 0x0000021C8F9BF220> <class 'map'>\n",
      "['1', '2', '3']\n"
     ]
    }
   ],
   "source": [
    "numbers = [1, 2, 3]\n",
    "result = map(str, numbers)\n",
    "print(result, type(result)) # map object로 반환\n",
    "\n",
    "print(list(result)) # 리스트로 형변환 후 결과 확인"
   ]
  },
  {
   "attachments": {},
   "cell_type": "markdown",
   "metadata": {},
   "source": [
    "### map 활용\n",
    "* 문제 풀이시 input 값들 숫자를 바로 활용하고 싶을 때"
   ]
  },
  {
   "cell_type": "code",
   "execution_count": 2,
   "metadata": {},
   "outputs": [
    {
     "name": "stdout",
     "output_type": "stream",
     "text": [
      "3 5\n",
      "<class 'int'> <class 'int'>\n"
     ]
    }
   ],
   "source": [
    "# input은 문자열, split - 공백을 기준으로 나눠진 리스트\n",
    "# 만약 '3 5'를 입력하면 input().split() == [3,5] 순회가능\n",
    "n, m = map(int, input().split()) \n",
    "print(n, m)\n",
    "print(type(n), type(m)) # n, m int형"
   ]
  },
  {
   "attachments": {},
   "cell_type": "markdown",
   "metadata": {},
   "source": [
    "* 응용"
   ]
  },
  {
   "cell_type": "code",
   "execution_count": 3,
   "metadata": {},
   "outputs": [
    {
     "name": "stdout",
     "output_type": "stream",
     "text": [
      "[11, 22, 33]\n"
     ]
    }
   ],
   "source": [
    "def my_func(n, m):\n",
    "    return n * 11\n",
    "map_obj = map(my_func, [1,2,3], [4,2,3])\n",
    "result = list(map_obj) # map(함수, 순회가능)을 리스트로 형변환\n",
    "print(result)\n"
   ]
  },
  {
   "attachments": {},
   "cell_type": "markdown",
   "metadata": {},
   "source": [
    "## 내장함수 `filter`"
   ]
  },
  {
   "cell_type": "code",
   "execution_count": 4,
   "metadata": {},
   "outputs": [
    {
     "name": "stdout",
     "output_type": "stream",
     "text": [
      "<filter object at 0x0000021C8F9A72E0> <class 'filter'>\n",
      "[1, 3, 5]\n"
     ]
    }
   ],
   "source": [
    "def odd(n):\n",
    "    return n % 2\n",
    "numbers = [1, 2, 3, 4, 5]\n",
    "result = filter(odd, numbers)\n",
    "\n",
    "print(result, type(result)) # filter object로 반환\n",
    "print(list(result))         # 리스트로 형변환"
   ]
  },
  {
   "attachments": {},
   "cell_type": "markdown",
   "metadata": {},
   "source": [
    "## 내장함수 `zip`"
   ]
  },
  {
   "cell_type": "code",
   "execution_count": 5,
   "metadata": {},
   "outputs": [
    {
     "name": "stdout",
     "output_type": "stream",
     "text": [
      "('a', 17, 42)\n",
      "('b', 12, 65)\n",
      "('c', 23, 756)\n",
      "('d', 42, 24)\n",
      "('e', 43, 56)\n",
      "('f', 25, 74)\n"
     ]
    }
   ],
   "source": [
    "name_list = ['a', 'b', 'c', 'd', 'e', 'f']\n",
    "age = [17,12,23, 42, 43, 25]\n",
    "weight = [42,65,756,24,56,74]\n",
    "\n",
    "for each in zip(name_list, age, weight): # 튜플로 복수의 iterable을 묶어줌\n",
    "    print(each)"
   ]
  },
  {
   "attachments": {},
   "cell_type": "markdown",
   "metadata": {},
   "source": [
    "## 내장함수 `lambda`"
   ]
  },
  {
   "cell_type": "code",
   "execution_count": 6,
   "metadata": {},
   "outputs": [
    {
     "name": "stdout",
     "output_type": "stream",
     "text": [
      "[11, 22, 33]\n",
      "[11, 22, 33]\n"
     ]
    }
   ],
   "source": [
    "#기본적인 모습\n",
    "def my_func(n):\n",
    "    return n * 11\n",
    "map_obj = map(my_func, [1,2,3])\n",
    "result = list(map_obj)\n",
    "print(result)\n",
    "\n",
    "#lambda로 바꾸기\n",
    "my_lambda_func = lambda i: i*11\n",
    "result =  list(map(my_lambda_func, [1,2,3]))\n",
    "print(result)\n"
   ]
  },
  {
   "cell_type": "code",
   "execution_count": 7,
   "metadata": {},
   "outputs": [
    {
     "name": "stdout",
     "output_type": "stream",
     "text": [
      "16\n",
      "10\n"
     ]
    }
   ],
   "source": [
    "#lambda 활용\n",
    "print((lambda x: x*x)(4))\n",
    "\n",
    "my_func = lambda n: n * 2\n",
    "print(my_func(5))"
   ]
  },
  {
   "cell_type": "code",
   "execution_count": 8,
   "metadata": {},
   "outputs": [
    {
     "name": "stdout",
     "output_type": "stream",
     "text": [
      "[('eng', 88), ('math', 32), ('sci', 55)]\n",
      "[('math', 32), ('sci', 55), ('eng', 88)]\n",
      "[('math', 32), ('sci', 55), ('eng', 88)]\n"
     ]
    }
   ],
   "source": [
    "#ex2 이거 뒤에 숫자 기준으로 정렬해봐\n",
    "scores = [('eng', 88), ('sci', 55), ('math', 32)]\n",
    "scores.sort() # 이게 되네 \n",
    "print(scores) # 근데 맨 앞에 있는 값 기준\n",
    "\n",
    "###다른 방법\n",
    "scores = [('eng', 88), ('sci', 55), ('math', 32)]\n",
    "\n",
    "def check(x):\n",
    "    return x[1]\n",
    "\n",
    "scores.sort(key=check) # 함수 넣어서 어디를 기준으로 할것인지 결정 가능\n",
    "print(scores)          # 근데 겨우 이거때문에 함수만들기 아까움\n",
    "\n",
    "##다른 방법2\n",
    "scores = [('eng', 88), ('sci', 55), ('math', 32)]\n",
    "scores.sort(key=lambda x: x[1]) # 람다 쓰면 깔끔함\n",
    "print(scores)                   # 위와 같은 결과\n"
   ]
  },
  {
   "attachments": {},
   "cell_type": "markdown",
   "metadata": {},
   "source": [
    "## **재귀함수**"
   ]
  },
  {
   "cell_type": "code",
   "execution_count": 9,
   "metadata": {},
   "outputs": [
    {
     "name": "stdout",
     "output_type": "stream",
     "text": [
      "120\n"
     ]
    }
   ],
   "source": [
    "def factorial(n):\n",
    "    if n == 1: # 반드시 종료 지점을 설정하자\n",
    "        return 1\n",
    "    else:\n",
    "        return n * factorial(n-1)\n",
    "\n",
    "print(factorial(5))\n"
   ]
  },
  {
   "attachments": {},
   "cell_type": "markdown",
   "metadata": {},
   "source": [
    "# 패킹/언패킹"
   ]
  },
  {
   "cell_type": "code",
   "execution_count": 10,
   "metadata": {},
   "outputs": [
    {
     "name": "stdout",
     "output_type": "stream",
     "text": [
      "(1, 2, 3)\n",
      "1 [2, 3, 4]\n"
     ]
    }
   ],
   "source": [
    "##패킹##################\n",
    "# x, y = 1, 2\n",
    "z = 1, 2, 3\n",
    "print(z)\n",
    "\n",
    "# 패킹 / 1은 a에 넣고, 남은거는 b에 넣어라\n",
    "a, *b = 1, 2, 3, 4\n",
    "print(a,b)"
   ]
  },
  {
   "cell_type": "code",
   "execution_count": 11,
   "metadata": {},
   "outputs": [
    {
     "name": "stdout",
     "output_type": "stream",
     "text": [
      "18\n"
     ]
    }
   ],
   "source": [
    "############언패킹###########\n",
    "def my_sum(a,b,c):\n",
    "    return a + b + c\n",
    "\n",
    "num_list = [4,6,8]\n",
    "# result = my_sum(num_list[0], num_list[1], num_list[2])\n",
    "result = my_sum(*num_list) # 언패킹\n",
    "print(result)"
   ]
  },
  {
   "attachments": {},
   "cell_type": "markdown",
   "metadata": {},
   "source": [
    "## 패킹 / 언패킹 함수에 적용"
   ]
  },
  {
   "cell_type": "code",
   "execution_count": 12,
   "metadata": {},
   "outputs": [
    {
     "name": "stdout",
     "output_type": "stream",
     "text": [
      "<class 'tuple'>\n",
      "1\n",
      "<class 'tuple'>\n",
      "12\n",
      "<class 'tuple'>\n",
      "1234\n",
      "<class 'tuple'>\n",
      "123\n"
     ]
    }
   ],
   "source": [
    "def test(*values):\n",
    "    print(type(values))\n",
    "    for value in values:\n",
    "        print(value, end='')\n",
    "    print()\n",
    "\n",
    "test(1)\n",
    "test(1,2)\n",
    "test(1,2,3,4)\n",
    "listt = [1,2,3]\n",
    "\n",
    "test(*listt)"
   ]
  },
  {
   "attachments": {},
   "cell_type": "markdown",
   "metadata": {},
   "source": [
    "## 가변인자 적용"
   ]
  },
  {
   "cell_type": "code",
   "execution_count": 13,
   "metadata": {},
   "outputs": [
    {
     "name": "stdout",
     "output_type": "stream",
     "text": [
      "0\n",
      "6\n"
     ]
    }
   ],
   "source": [
    "def my_sum(*args):\n",
    "    result = 0\n",
    "    for value in args:\n",
    "        result += value\n",
    "    return result\n",
    "\n",
    "print(my_sum())\n",
    "print(my_sum(1,2,3))"
   ]
  },
  {
   "attachments": {},
   "cell_type": "markdown",
   "metadata": {},
   "source": [
    "### 키워드 가변인자\n",
    "* 포지션은 *argument에, 키워드는 **kwargs에"
   ]
  },
  {
   "cell_type": "code",
   "execution_count": 14,
   "metadata": {},
   "outputs": [
    {
     "name": "stdout",
     "output_type": "stream",
     "text": [
      "{'name': 'asdf', 'age': 21} <class 'dict'>\n",
      "{'name': 'asdf', 'age': 21, 'music': 'fasd'} <class 'dict'>\n"
     ]
    },
    {
     "data": {
      "text/plain": [
       "{'name': 'asdf', 'age': 21, 'music': 'fasd'}"
      ]
     },
     "execution_count": 14,
     "metadata": {},
     "output_type": "execute_result"
    }
   ],
   "source": [
    "def test(**kwargs):\n",
    "    print(kwargs, type(kwargs))\n",
    "    return kwargs\n",
    "\n",
    "test(name='asdf', age= 21)\n",
    "\n",
    "# 혼용\n",
    "def test2(*args,**kwargs):\n",
    "    print(kwargs, type(kwargs))\n",
    "    return kwargs\n",
    "\n",
    "test2(1,2,3,4,name='asdf', age= 21, music = 'fasd')\n",
    "\n"
   ]
  }
 ],
 "metadata": {
  "kernelspec": {
   "display_name": "Python 3",
   "language": "python",
   "name": "python3"
  },
  "language_info": {
   "codemirror_mode": {
    "name": "ipython",
    "version": 3
   },
   "file_extension": ".py",
   "mimetype": "text/x-python",
   "name": "python",
   "nbconvert_exporter": "python",
   "pygments_lexer": "ipython3",
   "version": "3.9.13"
  },
  "orig_nbformat": 4,
  "vscode": {
   "interpreter": {
    "hash": "c4b9ebf4ca459396e2ad1150752490c26670c1a037c08cad955a4425787bec2e"
   }
  }
 },
 "nbformat": 4,
 "nbformat_minor": 2
}
