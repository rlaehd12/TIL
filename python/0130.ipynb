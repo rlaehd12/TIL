{
 "cells": [
  {
   "attachments": {},
   "cell_type": "markdown",
   "metadata": {},
   "source": [
    "## 클래스, 객체, 인스턴스"
   ]
  },
  {
   "cell_type": "code",
   "execution_count": 1,
   "metadata": {},
   "outputs": [
    {
     "name": "stdout",
     "output_type": "stream",
     "text": [
      "<class 'int'> <class 'str'> <class 'list'>\n"
     ]
    }
   ],
   "source": [
    "a = 5\n",
    "b = 'da'\n",
    "c = [1]\n",
    "print(type(a), type(b), type(c))"
   ]
  },
  {
   "cell_type": "code",
   "execution_count": 2,
   "metadata": {},
   "outputs": [
    {
     "name": "stdout",
     "output_type": "stream",
     "text": [
      "True False\n",
      "True True\n"
     ]
    }
   ],
   "source": [
    "a = [1, 2, 3]\n",
    "b = [1, 2, 3]\n",
    "\n",
    "print(a == b, a is b) # 서로 다른곳을 가리키고 있어서\n",
    "\n",
    "a = [1, 2, 3]\n",
    "b = a\n",
    "print(a == b, a is b) # 서로 같은곳을 가리키고 있어서"
   ]
  },
  {
   "cell_type": "code",
   "execution_count": 3,
   "metadata": {},
   "outputs": [
    {
     "name": "stdout",
     "output_type": "stream",
     "text": [
      "ㅇㅇ\n",
      "red\n",
      "1000\n"
     ]
    }
   ],
   "source": [
    "class Person:\n",
    "    count = 0\n",
    "    blood = 'red' # 클래스 변수\n",
    "    population = 1000 # 클래스 변수\n",
    "\n",
    "    # __init__는 생성할 때 실행\n",
    "    def __init__(self, name): # 인스턴스 변수 정의\n",
    "        self.name = name # 인스턴스 변수\n",
    "        Person.count += 1# 생성시 마다 클래스 변수 수 증가\n",
    "\n",
    "person1 = Person('ㅇㅇ')\n",
    "print(person1.name)  # 인스턴스에 변수\n",
    "## print(Person.name)  # 클래스에는 name이라는 변수가 없어서 오류\n",
    "print(person1.blood) # 인스턴스에 없으니 클래스에서 탐색\n",
    "print(Person.population) # 클래스에 변수"
   ]
  },
  {
   "attachments": {},
   "cell_type": "markdown",
   "metadata": {},
   "source": [
    "## 메서드\n",
    "\n",
    "* 인스턴스 메서드"
   ]
  },
  {
   "cell_type": "code",
   "execution_count": 4,
   "metadata": {},
   "outputs": [
    {
     "name": "stdout",
     "output_type": "stream",
     "text": [
      "이 클래스를 문자열 취급하면 불리는거\n",
      "34\n"
     ]
    }
   ],
   "source": [
    "class Per:\n",
    "    def __init__(self, name, age): # 매직 메서드, 자동으로 불림\n",
    "        # print(\"생성될 때 자동으로 불림\")\n",
    "        self.name = name\n",
    "        self.age = age\n",
    "    \n",
    "    def __str__(self): # 프린트 시 자동으로 불림\n",
    "        return '이 클래스를 문자열 취급하면 불리는거'\n",
    "\n",
    "    def __int__(self): # 이 클래스를 정수 취급하면 불리는거\n",
    "         return self.age\n",
    "\n",
    "aiden = Per('aiden', 34)\n",
    "isaac = Per('isaac', 22)\n",
    "print(aiden)\n",
    "print(int(aiden))\n"
   ]
  },
  {
   "attachments": {},
   "cell_type": "markdown",
   "metadata": {},
   "source": [
    "* 클래스 메서드"
   ]
  },
  {
   "cell_type": "code",
   "execution_count": 5,
   "metadata": {},
   "outputs": [
    {
     "name": "stdout",
     "output_type": "stream",
     "text": [
      "사람은 3\n",
      "사람은 3\n"
     ]
    }
   ],
   "source": [
    "class people:\n",
    "    count = 0\n",
    "    def __init__(self, name):\n",
    "        self.name = name\n",
    "        people.count += 1\n",
    "    \n",
    "    @classmethod # 파이썬 내부적으로 정의된 함수\n",
    "    def number_of(cls):\n",
    "        print(f'사람은 {cls.count}')\n",
    "\n",
    "p1 = people('a')\n",
    "p2 = people('b')\n",
    "p3 = people('c')\n",
    "\n",
    "people.number_of()# 클래스는 당연히 클래스메서드 사용 가능\n",
    "p1.number_of()    # 인스턴스는 클래스 메서드 사용 가능"
   ]
  },
  {
   "attachments": {},
   "cell_type": "markdown",
   "metadata": {},
   "source": [
    "* 스태틱 메서드"
   ]
  },
  {
   "cell_type": "code",
   "execution_count": 6,
   "metadata": {},
   "outputs": [
    {
     "name": "stdout",
     "output_type": "stream",
     "text": [
      "True\n",
      "False\n"
     ]
    }
   ],
   "source": [
    "class Person:\n",
    "    count = 0\n",
    "    # __init__는 생성할 때 실행\n",
    "    def __init__(self, name): # 인스턴스 변수 정의\n",
    "        self.name = name # 인스턴스 변수\n",
    "        Person.count += 1# 생성시 마다 클래스 변수 수 증가\n",
    "\n",
    "    @staticmethod\n",
    "    def check_rich(money): # static self, cls 사용 안함\n",
    "        return money > 1000\n",
    "\n",
    "p1 = Person('fff')\n",
    "p2 = Person('bbb')\n",
    "print(Person.check_rich(10000))\n",
    "print(p1.check_rich(10))"
   ]
  },
  {
   "attachments": {},
   "cell_type": "markdown",
   "metadata": {},
   "source": [
    "* 메서드들 예시"
   ]
  },
  {
   "cell_type": "code",
   "execution_count": 7,
   "metadata": {},
   "outputs": [
    {
     "name": "stdout",
     "output_type": "stream",
     "text": [
      "instance method\n",
      "클래스 메서드\n",
      "스태틱 메서드\n"
     ]
    }
   ],
   "source": [
    "class Myclass:\n",
    "\n",
    "    def method(self):\n",
    "        return 'instance method'\n",
    "    \n",
    "    @classmethod\n",
    "    def class_method(cls):\n",
    "        return '클래스 메서드'\n",
    "    \n",
    "    @staticmethod\n",
    "    def static_method():\n",
    "        return '스태틱 메서드'\n",
    "\n",
    "my = Myclass()\n",
    "print(my.method()) # 인스턴스는 모든 메서드에 접근 가능\n",
    "print(my.class_method())\n",
    "print(my.static_method())"
   ]
  },
  {
   "attachments": {},
   "cell_type": "markdown",
   "metadata": {},
   "source": [
    "## 데코레이터"
   ]
  },
  {
   "cell_type": "code",
   "execution_count": 8,
   "metadata": {},
   "outputs": [
    {
     "name": "stdout",
     "output_type": "stream",
     "text": [
      "안녕하세요 aiden님\n",
      "^~^/\n",
      "hello aiden\n",
      "^~^/\n"
     ]
    }
   ],
   "source": [
    "# 이름 받으면 출력하는 인사 함수 정의\n",
    "def ko_hello(name):\n",
    "    print(f'안녕하세요 {name}님')\n",
    "def en_hello(name):\n",
    "    print(f'hello {name}')\n",
    "\n",
    "# 출력된 인사 뒤에 '^~^/'을 출력하고 싶다\n",
    "# 기본 방법\n",
    "def emoji(name, func):\n",
    "    func(name)\n",
    "    print('^~^/')\n",
    "\n",
    "emoji('aiden', ko_hello) # 변수 두개 받는거 짜증남\n",
    "emoji('aiden', en_hello) # 새 함수로 부르는 것도 짜증남\n"
   ]
  },
  {
   "cell_type": "code",
   "execution_count": 9,
   "metadata": {},
   "outputs": [
    {
     "name": "stdout",
     "output_type": "stream",
     "text": [
      "안녕하세요 aiden님\n",
      "^~^/\n",
      "hello aiden\n",
      "^~^/\n",
      "안녕하세요 bob님\n",
      "^~^/\n",
      "hello bob\n",
      "^~^/\n"
     ]
    }
   ],
   "source": [
    "def emoji_decorator(func): # wrapper라는 함수를 리턴하는 함수\n",
    "    def wrapper(name):\n",
    "        func(name)\n",
    "        print(\"^~^/\")\n",
    "    return wrapper\n",
    "\n",
    "\n",
    "def ko_hello(name):\n",
    "    print(f'안녕하세요 {name}님')\n",
    "def en_hello(name):\n",
    "    print(f'hello {name}')\n",
    "\n",
    "\n",
    "# new_func에는 ko_hello가 실행되게끔 하는 함수가 들어감\n",
    "new_func = emoji_decorator(ko_hello) # 즉 new_func는 함수\n",
    "new_func('aiden')\n",
    "# 즉 이렇게 쓰는게 가능\n",
    "emoji_decorator(en_hello)('aiden')\n",
    "\n",
    "# 데코레이터 사용\n",
    "@emoji_decorator\n",
    "def ko_hello(name):\n",
    "    print(f'안녕하세요 {name}님')\n",
    "\n",
    "@emoji_decorator\n",
    "def en_hello(name):\n",
    "    print(f'hello {name}')\n",
    "\n",
    "# 평소랑 똑같이 사용 가능\n",
    "ko_hello('bob')\n",
    "en_hello('bob')"
   ]
  }
 ],
 "metadata": {
  "kernelspec": {
   "display_name": "Python 3",
   "language": "python",
   "name": "python3"
  },
  "language_info": {
   "codemirror_mode": {
    "name": "ipython",
    "version": 3
   },
   "file_extension": ".py",
   "mimetype": "text/x-python",
   "name": "python",
   "nbconvert_exporter": "python",
   "pygments_lexer": "ipython3",
   "version": "3.9.13"
  },
  "orig_nbformat": 4,
  "vscode": {
   "interpreter": {
    "hash": "c4b9ebf4ca459396e2ad1150752490c26670c1a037c08cad955a4425787bec2e"
   }
  }
 },
 "nbformat": 4,
 "nbformat_minor": 2
}
