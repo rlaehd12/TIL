{
 "cells": [
  {
   "attachments": {},
   "cell_type": "markdown",
   "metadata": {},
   "source": [
    "* void function\n",
    "* value returning function"
   ]
  },
  {
   "cell_type": "code",
   "execution_count": 3,
   "metadata": {},
   "outputs": [
    {
     "name": "stdout",
     "output_type": "stream",
     "text": [
      "hello\n",
      "None\n",
      "3.14\n"
     ]
    }
   ],
   "source": [
    "a = print('hello')\n",
    "b = float('3.14')\n",
    "\n",
    "print(a) # None, print는 void function\n",
    "print(b) # 3.14"
   ]
  },
  {
   "attachments": {},
   "cell_type": "markdown",
   "metadata": {},
   "source": [
    "* 그냥 return 은 `None` 반환"
   ]
  },
  {
   "cell_type": "code",
   "execution_count": 6,
   "metadata": {},
   "outputs": [
    {
     "name": "stdout",
     "output_type": "stream",
     "text": [
      "None\n"
     ]
    }
   ],
   "source": [
    "def nonenone():\n",
    "    return\n",
    "\n",
    "a = nonenone()\n",
    "print(a)"
   ]
  },
  {
   "attachments": {},
   "cell_type": "markdown",
   "metadata": {},
   "source": [
    "* 두개 이상의 값 튜플로 반환"
   ]
  },
  {
   "cell_type": "code",
   "execution_count": 8,
   "metadata": {},
   "outputs": [
    {
     "name": "stdout",
     "output_type": "stream",
     "text": [
      "(-2, 15)\n",
      "<class 'tuple'>\n"
     ]
    }
   ],
   "source": [
    "def minus_product(x, y):\n",
    "    return x - y, x * y\n",
    "\n",
    "y = minus_product(3,5)\n",
    "print(y)\n",
    "print(type(y))"
   ]
  },
  {
   "attachments": {},
   "cell_type": "markdown",
   "metadata": {},
   "source": [
    "## argument\n",
    "* positional\n",
    "* keyword\n",
    "* default"
   ]
  },
  {
   "cell_type": "code",
   "execution_count": 23,
   "metadata": {},
   "outputs": [
    {
     "data": {
      "text/plain": [
       "5"
      ]
     },
     "execution_count": 23,
     "metadata": {},
     "output_type": "execute_result"
    }
   ],
   "source": [
    "'''positional, 기본적으로 쓰는 형태'''\n",
    "def add(x, y):\n",
    "    return x + y\n",
    "add(2, 3)"
   ]
  },
  {
   "cell_type": "code",
   "execution_count": 28,
   "metadata": {},
   "outputs": [
    {
     "ename": "SyntaxError",
     "evalue": "positional argument follows keyword argument (4216915383.py, line 6)",
     "output_type": "error",
     "traceback": [
      "\u001b[1;36m  Cell \u001b[1;32mIn[28], line 6\u001b[1;36m\u001b[0m\n\u001b[1;33m    add(x=2,3) # 오류 발생\u001b[0m\n\u001b[1;37m             ^\u001b[0m\n\u001b[1;31mSyntaxError\u001b[0m\u001b[1;31m:\u001b[0m positional argument follows keyword argument\n"
     ]
    }
   ],
   "source": [
    "'''keyword'''\n",
    "def add(x, y):\n",
    "    return x + y\n",
    "add(y=4,x=3)\n",
    "add(2,y=3)\n",
    "add(x=2,3) # 오류 발생"
   ]
  },
  {
   "cell_type": "code",
   "execution_count": 25,
   "metadata": {},
   "outputs": [
    {
     "data": {
      "text/plain": [
       "3"
      ]
     },
     "execution_count": 25,
     "metadata": {},
     "output_type": "execute_result"
    }
   ],
   "source": [
    "'''default'''\n",
    "def add(x, y = 0):\n",
    "    return x + y\n",
    "add(3)"
   ]
  },
  {
   "attachments": {},
   "cell_type": "markdown",
   "metadata": {},
   "source": [
    "## enclosed 예시"
   ]
  },
  {
   "cell_type": "code",
   "execution_count": 31,
   "metadata": {},
   "outputs": [
    {
     "name": "stdout",
     "output_type": "stream",
     "text": [
      "func1 start\n",
      "func2 start\n",
      "func2 end\n"
     ]
    }
   ],
   "source": [
    "def func1():\n",
    "    print('func1 start')\n",
    "\n",
    "    def func2():\n",
    "        print('func2 start')\n",
    "        print('func2 end')\n",
    "        return # return 안적어도 됨\n",
    "    func2()\n",
    "    return\n",
    "func1()"
   ]
  },
  {
   "attachments": {},
   "cell_type": "markdown",
   "metadata": {},
   "source": [
    "## LEGB 예시"
   ]
  },
  {
   "cell_type": "code",
   "execution_count": 52,
   "metadata": {},
   "outputs": [
    {
     "name": "stdout",
     "output_type": "stream",
     "text": [
      "제일안쪽로컬\n",
      "{'a': 2, 'b': 3, 'x': '로컬'}\n",
      "중간인클로징\n",
      "바깥글로벌\n"
     ]
    }
   ],
   "source": [
    "x = '글로벌'\n",
    "\n",
    "def func1():\n",
    "    x = '인클로징'\n",
    "    def func2(a, b):\n",
    "        x = '로컬'\n",
    "        print(f'제일안쪽{x}')\n",
    "        print(locals())\n",
    "        #print(globals())\n",
    "    func2(2,3)\n",
    "    print(f'중간{x}')\n",
    "    #print(locals())\n",
    "\n",
    "func1()\n",
    "print(f'바깥{x}')"
   ]
  },
  {
   "cell_type": "code",
   "execution_count": 45,
   "metadata": {},
   "outputs": [
    {
     "name": "stdout",
     "output_type": "stream",
     "text": [
      "인클로징\n",
      "인클로징\n"
     ]
    }
   ],
   "source": [
    "x = '글로벌'\n",
    "\n",
    "def func1():\n",
    "    global x # 글로벌에서 x를 가져와라\n",
    "    x = '인클로징'\n",
    "    print(x)\n",
    "\n",
    "func1()\n",
    "print(x)"
   ]
  },
  {
   "cell_type": "code",
   "execution_count": 50,
   "metadata": {},
   "outputs": [
    {
     "name": "stdout",
     "output_type": "stream",
     "text": [
      "[1, 5554, 3, 4]\n"
     ]
    }
   ],
   "source": [
    "my_list = [1,2,3,4]   # my_list는 글로벌에 존재\n",
    "\n",
    "def func1():\n",
    "    #my_list = [5,6,7,8]\n",
    "    my_list[1] = 5554 # 로컬에 my_list없으면 글로벌에서 찾음\n",
    "\n",
    "func1()\n",
    "print(my_list)"
   ]
  },
  {
   "cell_type": "code",
   "execution_count": 56,
   "metadata": {},
   "outputs": [
    {
     "name": "stdout",
     "output_type": "stream",
     "text": [
      "3\n",
      "3\n",
      "1\n"
     ]
    }
   ],
   "source": [
    "x = 1\n",
    "\n",
    "def func1():\n",
    "    x = 2\n",
    "    def func2():\n",
    "        nonlocal x #로컬밖에서 찾아봐라 = 로컬 제외 가장 가까운 namespace에 접근해라\n",
    "        x = 3\n",
    "        print(x) #func1에 x를 3으로 바꿈\n",
    "    func2()\n",
    "    print(x)\n",
    "\n",
    "func1()\n",
    "print(x)"
   ]
  }
 ],
 "metadata": {
  "kernelspec": {
   "display_name": "Python 3",
   "language": "python",
   "name": "python3"
  },
  "language_info": {
   "codemirror_mode": {
    "name": "ipython",
    "version": 3
   },
   "file_extension": ".py",
   "mimetype": "text/x-python",
   "name": "python",
   "nbconvert_exporter": "python",
   "pygments_lexer": "ipython3",
   "version": "3.9.13"
  },
  "orig_nbformat": 4,
  "vscode": {
   "interpreter": {
    "hash": "c4b9ebf4ca459396e2ad1150752490c26670c1a037c08cad955a4425787bec2e"
   }
  }
 },
 "nbformat": 4,
 "nbformat_minor": 2
}
