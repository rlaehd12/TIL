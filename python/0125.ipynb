{
 "cells": [
  {
   "attachments": {},
   "cell_type": "markdown",
   "metadata": {},
   "source": [
    "## 문자열 메서드"
   ]
  },
  {
   "cell_type": "code",
   "execution_count": 1,
   "metadata": {},
   "outputs": [
    {
     "name": "stdout",
     "output_type": "stream",
     "text": [
      "1\n"
     ]
    }
   ],
   "source": [
    "#s.find(x)\n",
    "print('apple'.find('p')) # x의 첫번째 위치 반환, 없으면 -1 반환"
   ]
  },
  {
   "cell_type": "code",
   "execution_count": 2,
   "metadata": {},
   "outputs": [
    {
     "name": "stdout",
     "output_type": "stream",
     "text": [
      "1\n"
     ]
    }
   ],
   "source": [
    "#s.index(x)\n",
    "print('apple'.index('p')) # x의 첫번째 위치 반환, 없으면 오류 발생"
   ]
  },
  {
   "cell_type": "code",
   "execution_count": 3,
   "metadata": {},
   "outputs": [
    {
     "name": "stdout",
     "output_type": "stream",
     "text": [
      "c!!one\n"
     ]
    }
   ],
   "source": [
    "#s.replace(old,new[,count])\n",
    "print('cooone'.replace('o','!',2)) # count지정하면 개수만큼 변경"
   ]
  },
  {
   "attachments": {},
   "cell_type": "markdown",
   "metadata": {},
   "source": [
    "* strip\n",
    "  * 특정한 문자를 지정하면\n",
    "    * 양쪽(strip), 왼쪽(lstrip), 오른쪽(rstrip) 제거\n",
    "  * 없으면 공백 제거"
   ]
  },
  {
   "cell_type": "code",
   "execution_count": 4,
   "metadata": {},
   "outputs": [
    {
     "name": "stdout",
     "output_type": "stream",
     "text": [
      "cooone\n"
     ]
    }
   ],
   "source": [
    "#s.strip(old,new[,count])\n",
    "print('cooone???????'.rstrip('?')) # 문자제거 아무것도 없으면 공백 제거"
   ]
  },
  {
   "cell_type": "code",
   "execution_count": 5,
   "metadata": {},
   "outputs": [
    {
     "name": "stdout",
     "output_type": "stream",
     "text": [
      "['a', 'b', 'c']\n",
      "['a', 'b', 'c']\n"
     ]
    }
   ],
   "source": [
    "#s.split(sep=None, maxsplit= -1)\n",
    "print('a,b,c'.split(','))\n",
    "print('a b c'.split())"
   ]
  },
  {
   "attachments": {},
   "cell_type": "markdown",
   "metadata": {},
   "source": [
    "* `'separator'.join([iterable])`\n",
    "* 반복가능한 컨테이너 요소들을 separator(구분자)로 합쳐 문자열 반환\n",
    "  * iterable에 문자열이 아닌 값이 있으면 오류"
   ]
  },
  {
   "cell_type": "code",
   "execution_count": 6,
   "metadata": {},
   "outputs": [
    {
     "name": "stdout",
     "output_type": "stream",
     "text": [
      "h!e!l!l!o\n",
      "3 5 7\n"
     ]
    }
   ],
   "source": [
    "print('!'.join('hello'))\n",
    "print(' '.join(['3', '5', '7']))"
   ]
  },
  {
   "attachments": {},
   "cell_type": "markdown",
   "metadata": {},
   "source": [
    "## 리스트 메서드"
   ]
  },
  {
   "cell_type": "code",
   "execution_count": 7,
   "metadata": {},
   "outputs": [
    {
     "name": "stdout",
     "output_type": "stream",
     "text": [
      "[1, 'asdf', 2, 3, 4, 5]\n",
      "[1, 'asdf', 2, 3, 4, 5, '123']\n"
     ]
    }
   ],
   "source": [
    "#.insert(i,x)\n",
    "# 정해진 위치 i에 x값을 추가함\n",
    "a = [1,2,3,4,5]\n",
    "a.insert(1,'asdf')\n",
    "print(a)\n",
    "a.insert(9999,'123') # 리스트 길이보다 i가 큰 경우 맨 뒤\n",
    "print(a)"
   ]
  },
  {
   "cell_type": "code",
   "execution_count": 8,
   "metadata": {},
   "outputs": [
    {
     "name": "stdout",
     "output_type": "stream",
     "text": [
      "[1, 2, 3, 4, 5, 'a', 's', 'd', 'f']\n"
     ]
    }
   ],
   "source": [
    "#.extend(iterable)\n",
    "# 리스트에 iterable의 항목 추가\n",
    "b = [1,2,3,4,5]\n",
    "b.extend('asdf')\n",
    "print(b) # iterable한 문자열 asdf의 항목들이 리스트에 추가됨\n"
   ]
  },
  {
   "cell_type": "code",
   "execution_count": 9,
   "metadata": {},
   "outputs": [
    {
     "name": "stdout",
     "output_type": "stream",
     "text": [
      "[1, 2, 3, 4]\n"
     ]
    }
   ],
   "source": [
    "#.remove(x)\n",
    "#x값을 제거\n",
    "c = [1,2,3,4,'123']\n",
    "c.remove('123')\n",
    "print(c)"
   ]
  },
  {
   "attachments": {},
   "cell_type": "markdown",
   "metadata": {},
   "source": [
    "* `.pop(i)`\n",
    "  * 정해진 위치i에 있는 값을 삭제하고, 그 항목을 ***반환***\n",
    "  * i가 없으면 마지막 항목 반환, 삭제 "
   ]
  },
  {
   "cell_type": "code",
   "execution_count": 10,
   "metadata": {},
   "outputs": [
    {
     "name": "stdout",
     "output_type": "stream",
     "text": [
      "4\n",
      "['123', 1, 2, 3]\n"
     ]
    }
   ],
   "source": [
    "d = ['123',1,2,3,4]\n",
    "print(d.pop())\n",
    "print(d)"
   ]
  },
  {
   "cell_type": "code",
   "execution_count": 11,
   "metadata": {},
   "outputs": [
    {
     "name": "stdout",
     "output_type": "stream",
     "text": [
      "4\n"
     ]
    }
   ],
   "source": [
    "#index(x)\n",
    "# x값을 찾아 해당 index 반환\n",
    "e = [1,2,3,4,5,5,5,6]\n",
    "print(e.index(5))"
   ]
  },
  {
   "cell_type": "code",
   "execution_count": 12,
   "metadata": {},
   "outputs": [
    {
     "name": "stdout",
     "output_type": "stream",
     "text": [
      "2\n"
     ]
    }
   ],
   "source": [
    "#count(x) 개수 반환\n",
    "f = [1,2,3,4,5,6,1,2]\n",
    "print(f.count(1))"
   ]
  },
  {
   "cell_type": "code",
   "execution_count": 13,
   "metadata": {},
   "outputs": [
    {
     "name": "stdout",
     "output_type": "stream",
     "text": [
      "[1, 3, 4, 5, 7, 8, 11, 32, 44, 53]\n"
     ]
    }
   ],
   "source": [
    "#.sort 원본리스트 정렬 후 none 반환\n",
    "#sorted함수와 구분할 것\n",
    "g = [5,4,3,7,8,1,32,53,44,11]\n",
    "g.sort()\n",
    "print(g)"
   ]
  },
  {
   "attachments": {},
   "cell_type": "markdown",
   "metadata": {},
   "source": [
    "### 문제\n",
    "* 주어진 문자열에서 숫자, 문자, 기호가 각각 몇개인지 판단하는 함수 작성"
   ]
  }
 ],
 "metadata": {
  "kernelspec": {
   "display_name": "Python 3",
   "language": "python",
   "name": "python3"
  },
  "language_info": {
   "codemirror_mode": {
    "name": "ipython",
    "version": 3
   },
   "file_extension": ".py",
   "mimetype": "text/x-python",
   "name": "python",
   "nbconvert_exporter": "python",
   "pygments_lexer": "ipython3",
   "version": "3.9.13"
  },
  "orig_nbformat": 4,
  "vscode": {
   "interpreter": {
    "hash": "c4b9ebf4ca459396e2ad1150752490c26670c1a037c08cad955a4425787bec2e"
   }
  }
 },
 "nbformat": 4,
 "nbformat_minor": 2
}
